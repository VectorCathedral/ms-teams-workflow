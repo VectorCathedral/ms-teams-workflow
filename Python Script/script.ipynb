{
 "cells": [
  {
   "cell_type": "code",
   "execution_count": null,
   "id": "a34292bb",
   "metadata": {},
   "outputs": [],
   "source": [
    "import os\n",
    "import requests\n",
    "from dotenv import load_dotenv\n",
    "\n",
    "load_dotenv()\n",
    "\n",
    "def send_notes_teams(excel_sheet:str,slides:str):\n",
    "    url=os.getenv('webhook_url')\n",
    "    headers={\n",
    "        'Content-Type': 'application/json'\n",
    "    }\n",
    "\n",
    "    with open(excel_sheet,'r') as file:\n",
    "        for student in file:\n",
    "            fullname,FirstJoin,LastLeave,Duration,studNum,Participant,Role=student.split(';')\n",
    "            if fullname != 'Name':\n",
    "                try:\n",
    "                    payload ={\n",
    "                        \"studNum\":f\"{studNum}\",\n",
    "                        \"message\":f\"Hey {fullname}👋Here's todays notes🎒📖This link expires in 30 days so please download ASAP🤙\",\n",
    "                        \"url\":f\"{slides}\"\n",
    "                    }\n",
    "\n",
    "                    response=requests.post(url=url,headers=headers,json=payload)\n",
    "\n",
    "                except Exception as e:\n",
    "                    print(f'Caught:{e}')\n",
    "         \n",
    "        \n",
    "        \n",
    "    return response.status_code\n",
    "\n",
    "            \n"
   ]
  },
  {
   "cell_type": "code",
   "execution_count": null,
   "id": "08bdf6fa",
   "metadata": {},
   "outputs": [],
   "source": [
    "path='./attendence.csv'\n",
    "notes_url='sharepoint url goes here'"
   ]
  },
  {
   "cell_type": "code",
   "execution_count": null,
   "id": "88657ca7",
   "metadata": {},
   "outputs": [
    {
     "name": "stdout",
     "output_type": "stream",
     "text": [
      "Hey Motheo Mkhwanazi👋Here's todays notes🎒📖This link expires in 30 days so please download ASAP🤙\n",
      "Hey Aidan Josias👋Here's todays notes🎒📖This link expires in 30 days so please download ASAP🤙\n"
     ]
    }
   ],
   "source": [
    "send_notes_teams(excel_sheet=path,slides=notes_url)\n",
    "#below is the output that would be sent to students via teams with the relevant url"
   ]
  }
 ],
 "metadata": {
  "kernelspec": {
   "display_name": "Python 3",
   "language": "python",
   "name": "python3"
  },
  "language_info": {
   "codemirror_mode": {
    "name": "ipython",
    "version": 3
   },
   "file_extension": ".py",
   "mimetype": "text/x-python",
   "name": "python",
   "nbconvert_exporter": "python",
   "pygments_lexer": "ipython3",
   "version": "3.13.5"
  }
 },
 "nbformat": 4,
 "nbformat_minor": 5
}
